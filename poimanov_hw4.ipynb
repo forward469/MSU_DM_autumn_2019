{
 "cells": [
  {
   "cell_type": "markdown",
   "metadata": {},
   "source": [
    "# Алгоритмы интеллектуальной обработки больших объемов данных\n",
    "## Домашнее задание №4 - Алгоритмы кластеризации\n"
   ]
  },
  {
   "cell_type": "markdown",
   "metadata": {},
   "source": [
    "###### <hr\\>\n",
    "**Общая информация**\n",
    "\n",
    "**Срок сдачи:** 10 декабря 2019, 06:00 <br\\>\n",
    "**Штраф за опоздание:** -2 балла после 06:00 10 декабря, -4 балла после 06:00 17 декабря, -6 баллов после 06:00 24 декабря -8 баллов  после 06:00 31 декабря\n",
    "\n",
    "При отправлении ДЗ указывайте фамилию в названии файла Присылать ДЗ необходимо в виде ссылки на свой github репозиторий на почту ml1.sphere@mail.ru с указанием темы в следующем формате:\n",
    "[ML0919, Задание 4] Фамилия Имя\n",
    "\n",
    "Используйте данный Ipython Notebook при оформлении домашнего задания.\n",
    "<hr\\>"
   ]
  },
  {
   "cell_type": "markdown",
   "metadata": {},
   "source": [
    "**Из чего состоит задание:**\n",
    "\n",
    "###### Теоретические вопросы (2 балла)\n",
    "\n",
    "###### Реализация алгоритма кластеризации (5 баллов)\n",
    "\n",
    "###### Боевое применение (3 балла)\n",
    "\n",
    "\n"
   ]
  },
  {
   "cell_type": "markdown",
   "metadata": {},
   "source": [
    "**Штрафные баллы:**\n",
    "\n",
    "1. Невыполнение PEP8 -1 балл\n",
    "2. Отсутствие фамилии в имени скрипта (скрипт должен называться по аналогии со stroykova_hw4.ipynb) -1 балл\n",
    "3. Все строчки должны быть выполнены. Нужно, чтобы output команды можно было увидеть уже в git'е. В противном случае -1 балл\n",
    "4. При оформлении ДЗ нужно пользоваться данным файлом в качестве шаблона. Не нужно удалять и видоизменять написанный код и текст. В противном случае -1 балл"
   ]
  },
  {
   "cell_type": "code",
   "execution_count": 76,
   "metadata": {},
   "outputs": [],
   "source": [
    "%config InlineBackend.figure_format = 'retina'"
   ]
  },
  {
   "cell_type": "code",
   "execution_count": 1,
   "metadata": {},
   "outputs": [
    {
     "name": "stdout",
     "output_type": "stream",
     "text": [
      "Populating the interactive namespace from numpy and matplotlib\n"
     ]
    }
   ],
   "source": [
    "import time\n",
    "import pandas as pd\n",
    "import pylab as pl\n",
    "import numpy as np\n",
    "import scipy.spatial as ss\n",
    "import sklearn.cluster as sc\n",
    "import sklearn.manifold as sm\n",
    "import sklearn.datasets as ds\n",
    "import sklearn.metrics as smt\n",
    "from sklearn.mixture import GaussianMixture\n",
    "from sklearn.cluster import AgglomerativeClustering\n",
    "\n",
    "import matplotlib.pyplot as plt\n",
    "\n",
    "%matplotlib inline\n",
    "\n",
    "plt.style.use('ggplot')\n",
    "plt.rcParams['figure.figsize'] = (12,5)\n",
    "\n",
    "# Plotting config\n",
    "%pylab inline"
   ]
  },
  {
   "cell_type": "markdown",
   "metadata": {},
   "source": [
    "# Теоретическое введение\n"
   ]
  },
  {
   "cell_type": "markdown",
   "metadata": {},
   "source": [
    "Основная задача кластерного анализа — разбиение исходного набора объектов на группы (кластеры) таким образом, чтобы объекты в группе были похожи друг на друга, а объекты из разных групп - отличались. \n",
    "\n",
    "В этой работе мы будем реализовывать агломеративную кластеризацию. "
   ]
  },
  {
   "cell_type": "markdown",
   "metadata": {
    "collapsed": true
   },
   "source": [
    "## Агломеративная кластеризация"
   ]
  },
  {
   "cell_type": "markdown",
   "metadata": {},
   "source": [
    "Иерархические алгоритмы кластеризации строят на выборке систему вложенных разбиений.  Наиболее часто испоьзуемые иерархические алгоритмы - агломеративные алгоритмы, которые строят ирархию по восходящей, то есть от момента, когда все элементы являются отдельными кластерами, до того момента, пока вся выборка не станет одним кластером."
   ]
  },
  {
   "cell_type": "markdown",
   "metadata": {},
   "source": [
    "Сам алгоритм описать можно примерно так:\n",
    "\n",
    "* начинаем с ситуации, когда каждый объект - отдельный кластер\n",
    "* на каждом шаге совмещаем два наиболее близких кластера\n",
    "* останавливаемся, когда получаем требуемое количество или единственный кластер"
   ]
  },
  {
   "cell_type": "markdown",
   "metadata": {},
   "source": [
    "\n",
    "В данной работе Вам предлагается реализовать три варианта расстояний между кластерами, по которым Вы определяете пару для слияния: \n",
    "* Single linkage\n",
    "$$ d_{min}(C_i, C_j) = \\min_{\\mathbf{x} \\in C_i, \\mathbf{x}' \\in C_j} \\|\\mathbf{x} -\\mathbf{x}' \\| $$\n",
    "\n",
    "* Complete linkage\n",
    "$$ d_{max}(C_i, C_j) = \\max_{\\mathbf{x} \\in C_i, \\mathbf{x}' \\in C_j} \\|\\mathbf{x} -\\mathbf{x}' \\| $$\n",
    "\n",
    "* Average linkage\n",
    "$$ d_{avg}(C_i, C_j) = \\frac{1}{n_i n_j}\\sum_{\\mathbf{x} \\in C_i}\\sum_{\\mathbf{x}' \\in C_j} \\|\\mathbf{x} -\\mathbf{x}' \\| $$\n",
    "\n",
    "Как считать расстояние $\\|\\mathbf{x} -\\mathbf{x}' \\|$ между объектами Вы должны выбрать сами.  Вы должны четко понимать, что выбор расстояния между объектами - самое важное в такого рода алгоритмах. Передавайте название расстояния в конструктор класса, а потом, в зависимости от названия, применяете ту или иную функцию для подсчета расстояния. \n",
    "\n"
   ]
  },
  {
   "cell_type": "markdown",
   "metadata": {},
   "source": [
    "Для того, чтобы на втором этапе нам не пересчитывать заново расстояния между всеми парами кластеров, можно использовать Формулы Ланса-Вильямса, которые позволяют посчитать расстояние между кластерами после объединения, используя только расстояния между кластерами до объедения.  Таким образом, достаточно будет посчитать расстояния только между всеми одноэлементными кластерами (первый этап), а затем пересчитывать расстояния при их объединении через \n",
    "формулы Ланса-Вильямса. \n",
    "\n",
    "Общая  формула выглядит так:\n",
    "$$ d(C_i \\cup C_j, C_k) = a_i \\cdot d(C_i, C_k) + a_j \\cdot d(C_j, C_k) + b \\cdot d(C_i, C_j) + c \\cdot |d(C_i, C_k) - d(C_j, C_k)|$$\n",
    "\n",
    "Можно показать, что все относительно разумные кластерные расстояния можно описать данной формулой. \n",
    "\n",
    "Для интересущих нас linkage:\n",
    "\n",
    "* single-linkage       $a_i = \\frac{1}{2}, a_j =  \\frac{1}{2}, b = 0, c =  - \\frac{1}{2} $\n",
    "\n",
    "* complete-linkage     $a_i = \\frac{1}{2}, a_j =  \\frac{1}{2}, b = 0, c =   \\frac{1}{2} $\n",
    "\n",
    "* average-linkage       $a_i = \\frac{|C_i|}{|C_i \\cup C_j|}, a_j =  \\frac{|C_j|}{|C_i \\cup C_j|}, b = 0, c = 0 $\n",
    "\n"
   ]
  },
  {
   "cell_type": "markdown",
   "metadata": {},
   "source": [
    "# Теоретические вопросы (2 балла)\n",
    "В этой части Вам будут предложены теоретичские вопросы и задачи по теме. Вы, конечно, можете списать их у своего товарища или найти решение в интернете, но учтите, что они обязательно войдут в теоретический коллоквиум. Лучше разобраться в теме сейчас и успешно ответить на коллоквиуме, чем списать, не разобравшись в материале, и быть терзаемым совестью. \n",
    "\n",
    "\n",
    "Формулы надо оформлять в формате **LaTeX**."
   ]
  },
  {
   "cell_type": "markdown",
   "metadata": {},
   "source": [
    "Задача 1. Сходимость kmeans.\n",
    "\n",
    "Докажите, что kmeans всегда сходится, и итераций не будет превышать $k^N$, где $k$ $-$ число кластеров, $N$ $-$ число объектов\n",
    "\n",
    "Подсказка: Вам стоит рассмотреть функционал, который минимизирует алгоритм, и подумать, как он изменяется на E шаге и на M шаге.\n",
    "\n"
   ]
  },
  {
   "cell_type": "markdown",
   "metadata": {},
   "source": [
    "***Ваше решение здесь***\n",
    "\n",
    "$\\text{Функционал, минимизуруемый в kmeans: }$\n",
    "\n",
    "\n",
    "$$L(C)=\\sum_{k=1}^{K} \\sum_{i \\in C_{k}}\\left\\|x_{i}-\\mu_{k}\\right\\|^{2} \\rightarrow \\min _{C}$$\n",
    "$$\\mu_{k}=\\frac{1}{\\left|C_{k}\\right|} \\sum_{x_{n} \\in C_{k}} x_{n}$$\n",
    "\n",
    "$E \\text{ шаг: определение кластеров для точек}$\n",
    "\n",
    "$$C_{k}=\\left\\{x_{n}:\\left\\|x_{n}-\\mu_{k}\\right\\|^{2} \\leq\\left\\|x_{n}-\\mu_{l}\\right\\|^{2} \\quad \\forall l \\neq k\\right\\}$$\n",
    "\n",
    "На этом шаге центроиды фиксированы и кластеры для точек определяются, исходя из их близости к центроидам.\n",
    "\n",
    "В обоих случаях, когда уже был совершен  $M$ шаг и когда центроиды были выбраны случайно при инициализации, функционал не увеличивается.\n",
    "\n",
    "\n",
    "$M \\text{ шаг: пересчет и обновление центроидов}$\n",
    "$$\\mu_{k}=\\frac{1}{\\left|C_{k}\\right|} \\sum_{x_{n} \\in C_{k}} x_{n}$$\n",
    "\n",
    "На этом шаге фиксированы кластеры для всех точек и уже центроиды пересчитываются, исходя из положений (расстояний) точек кластера относительно центра. На этом шаге функционал тоже не может увеличиться.\n",
    "\n",
    "Так как функционал не может увеличиться ни на $E$ шаге, ни на $М$ шаге, функционал не увеличивается на протяжении работы всего алгоритма.\n",
    "\n",
    "Так же можно сказать, что функционал ограничен, исходя из того, что на некотором $M$ шаге никакой из центроидов не обновится или они обновятся на малую величину.\n",
    "\n",
    "Так как каждый объект мы можем отнести к одному из $k$ кластеров, объектов у нас $N$, а функционал не увеличивается и ограничен, то количество итераций не будет превышать $k^N$ -- ситуации, когда в работе алгоритма мы попытаемся отнести каждый возможный объект в каждый возможный кластер."
   ]
  },
  {
   "cell_type": "markdown",
   "metadata": {},
   "source": [
    "Задача 2.  ММП для многомерного нормального распределения.\n",
    "\n",
    "Функция правдоподобия в общем случае записывается как:\n",
    "￼\n",
    "￼$$ L(\\theta) = p(X | \\theta ) = \\prod_{i=1}^N p(x_i | \\theta)$$\n",
    "\n",
    "Для многомерного нормального распределения плотность вероятности:\n",
    "$$p(x_i| \\theta) = \\frac{1}{(2\\pi)^{n/2}|\\Sigma|^{1/2}}e^{-\\frac{1}{2} (x_i - \\mu)^T\\Sigma^{-1}(x_i - \\mu)}$$\n",
    "\n",
    "Выведите ММП оценку для вектора $\\mu$\n",
    "\n"
   ]
  },
  {
   "cell_type": "markdown",
   "metadata": {},
   "source": [
    "***Ваше решение здесь***\n",
    "\n",
    "$$\\ln{L(\\mu)} = \\sum\\limits_{i=1}^N \\ln{p(x_i|\\mu)} $$\n",
    "\n",
    "$$\\frac{\\partial \\ln{L(\\mu)}}{\\partial \\mu} = \\sum\\limits_{i=1}^N \\frac{\\partial \\ln{p(x_i|\\mu)}}{\\partial \\mu} = 0$$\n",
    "\n",
    "$$\\frac{\\partial}{\\partial \\mu} \\sum\\limits_{i=1}^N \\frac{\\frac{-1}{2} (x_i-\\mu)^T \\Sigma^{-1} (x_i - \\mu)}{(2\\pi)^{n/2} |\\Sigma|^{1/2}} = \\sum\\limits_{i=1}^N \\frac{\\frac{1}{2} \\Sigma^{-1} (x_i - \\mu)}{(2\\pi)^{n/2} |\\Sigma|^{1/2}} = 0$$\n",
    "\n",
    "$$\\mu = \\frac{\\Sigma^{-1}}{2(2\\pi)^{n/2} |\\Sigma|^{1/2}} \\frac{1}{N} \\sum\\limits_{i=1}^N x_i$$"
   ]
  },
  {
   "cell_type": "markdown",
   "metadata": {},
   "source": [
    "Задача 3. Формулы Ланса-Вильямса.\n",
    "\n",
    "Формулы Ланса-Вильямса крайне удобны для быстрого пересчта расстояний в агломеративной кластеризации. Давайте докажем  формулы для single и complete linkage. \n",
    "\n",
    "Докажите, что:\n",
    "\n",
    "$d_{\\min}(U \\cup V, S) = \\frac{1}{2} d_{\\min}(U, S) + \\frac{1}{2} d_{\\min}(V, S)  - \\frac{1}{2} | d_{\\min}(U, S) - d_{\\min}(V, S) |  $\n",
    "\n",
    "\n",
    "$d_{\\max}(U \\cup V, S) = \\frac{1}{2} d_{\\max}(U, S) + \\frac{1}{2} d_{\\max}(V, S)  + \\frac{1}{2} | d_{\\max}(U, S) - d_{\\max}(V, S) |  $\n",
    "\n",
    "\n"
   ]
  },
  {
   "cell_type": "markdown",
   "metadata": {},
   "source": [
    "***Ваше решение здесь***\n",
    "\n",
    "Используя соотношения на минимум и максимум для чисел имеем:\n",
    "\n",
    "$$d_{\\min}(U \\cup V, S) = \\min(d_{\\min}(U, S), d_{\\min}(V, S)) = \\min(A, B) = \\frac{1}{2}(A + B - |A-B|)$$ $$d_{\\max}(U \\cup V, S) = \\max(d_{\\max}(U, S), d_{\\max}(V, S)) = \\max(A, B) = \\frac{1}{2}(A + B + |A-B|)$$\n",
    "\n",
    "После подстановки обратно вместо $A \\rightarrow d_{\\min}(U, S)$ (для максимума $d_{\\max}(U, S)$), вместо $B \\rightarrow d_{\\min}(V, S)$ (для максимума $d_{\\max}(V, S)$) получаем искомые соотношения."
   ]
  },
  {
   "cell_type": "markdown",
   "metadata": {},
   "source": [
    "# Реализация алгоритма кластеризации  (5 баллов)"
   ]
  },
  {
   "cell_type": "markdown",
   "metadata": {},
   "source": [
    "Алгоритм кластеризации должен удовлетворять следующему интерфейсу. Конструктор принимает набор параметров, необходимых для работы алгоритма кластеризации. Метод `fit` подсчитывает параметры модели и возвращает `self`. Метод `predict` возвращает вектор с индексами кластеров для поданных в него объектов `x`. "
   ]
  },
  {
   "cell_type": "code",
   "execution_count": 310,
   "metadata": {},
   "outputs": [],
   "source": [
    "from sklearn.base import BaseEstimator, ClusterMixin\n",
    "from sklearn.metrics.pairwise import euclidean_distances as EuclDist\n",
    "from sklearn.metrics.pairwise import cosine_distances as CosDist\n",
    "from itertools import combinations\n",
    "from copy import deepcopy\n",
    "from scipy.cluster.hierarchy import dendrogram\n",
    "\n",
    "class Clustering(BaseEstimator, ClusterMixin):\n",
    "    \n",
    "    def __init__(self, k = 2, metric='euclidean', linkage='single', **kwargs):\n",
    "        self.Z = []\n",
    "        self.k = k\n",
    "        self.linkage = linkage\n",
    "        self.metric = metric\n",
    "        \n",
    "        if linkage == 'single':\n",
    "            self.cluster_distance = self.single_linkage\n",
    "        elif linkage == 'complete':\n",
    "            self.cluster_distance = self.complete_linkage\n",
    "        elif linkage == 'average':\n",
    "            self.cluster_distance = self.average_linkage\n",
    "        else:\n",
    "            raise ValueError('Not supported type of linkage')\n",
    "        return\n",
    "\n",
    "    def single_linkage(self, c_1, c_2):\n",
    "        return np.min(self.Distances[c_1].T[c_2])\n",
    "\n",
    "    def complete_linkage(self, c_1, c_2):\n",
    "        return np.max(self.Distances[c_1].T[c_2])\n",
    "\n",
    "    def average_linkage(self, c_1, c_2):\n",
    "        return np.sum(self.Distances[c_1].T[c_2])/(len(c_1) * len(c_2))\n",
    "\n",
    "    def fit(self, x, y=None):\n",
    "        self.x_len = len(x)\n",
    "        \n",
    "        # equal to dist = self.dist(x)\n",
    "        if self.metric == 'euclidean':\n",
    "            self.Distances = EuclDist(x)\n",
    "        elif self.metric == 'cosine':\n",
    "            self.Distances = CosDist(x)\n",
    "        else:\n",
    "            raise ValueError('Not supported metric')\n",
    "        \n",
    "        self.clusters = [[x] for x in range(self.x_len)]\n",
    "        self.clusters_copy = deepcopy(self.clusters)\n",
    "        \n",
    "        while len(self.clusters) > self.k:\n",
    "            c_1, c_2 = self.clusters[0], self.clusters[1]\n",
    "            distance = self.cluster_distance(c_1, c_2)\n",
    "\n",
    "            for tmp_c_1, tmp_c_2 in combinations(self.clusters, 2):\n",
    "                tmp_distance = self.cluster_distance(tmp_c_1, tmp_c_2)\n",
    "                if tmp_distance < distance:\n",
    "                    c_1, c_2, distance = tmp_c_1, tmp_c_2, tmp_distance\n",
    "\n",
    "            self.Z.append([self.clusters_copy.index(c_1), self.clusters_copy.index(c_2),\n",
    "                           distance, len(c_1)+len(c_2)])\n",
    "            self.clusters.remove(c_1)\n",
    "            self.clusters.remove(c_2)\n",
    "            self.clusters.append(c_1 + c_2)\n",
    "            self.clusters_copy.append(c_1 + c_2)            \n",
    "        return self\n",
    "\n",
    "    def predict(self, x):\n",
    "        labels = np.ones(self.x_len, dtype=int)\n",
    "        for cl_num, x_ind in enumerate(self.clusters):\n",
    "            labels[x_ind] = cl_num\n",
    "        return labels\n",
    "\n",
    "    def fit_predict(self, x, y=None):\n",
    "        self.fit(x, y)\n",
    "        return self.predict(x)\n",
    "\n",
    "    def plot_dendrogram(self):\n",
    "        plt.figure(figsize=(15,9))\n",
    "        dendrogram(self.Z)"
   ]
  },
  {
   "cell_type": "markdown",
   "metadata": {},
   "source": [
    "Сначала проверим реализованный алгоритм кластеризации на классическом наборе данных [Iris](http://www.wikiwand.com/en/Iris_flower_data_set). Загрузим данные (они включены в библиотеку sklearn) и посмотрим на то, как они выглядят в двух проекциях (для простоты используем 2 класса из 3)."
   ]
  },
  {
   "cell_type": "code",
   "execution_count": 311,
   "metadata": {},
   "outputs": [
    {
     "data": {
      "image/png": "[encoded data removed]",
      "text/plain": [
       "<Figure size 720x360 with 2 Axes>"
      ]
     },
     "metadata": {
      "image/png": {
       "height": 319,
       "width": 611
      },
      "needs_background": "light"
     },
     "output_type": "display_data"
    }
   ],
   "source": [
    "iris = ds.load_iris()\n",
    "x_iris = iris.data[:100]\n",
    "y_iris = iris.target[:100]\n",
    "\n",
    "pl.figure(figsize=(10, 5))\n",
    "\n",
    "pl.subplot(1, 2, 1)\n",
    "pl.scatter(x_iris[:, 0], x_iris[:, 1], c=y_iris, cmap=pl.cm.PuOr, lw=0, s=30)\n",
    "plt.xlabel('Sepal length')\n",
    "plt.ylabel('Sepal width')\n",
    "\n",
    "pl.subplot(1, 2, 2)\n",
    "pl.scatter(x_iris[:, 2], x_iris[:, 3], c=y_iris, cmap=pl.cm.PuOr, lw=0, s=30)\n",
    "plt.xlabel('Petal length')\n",
    "plt.ylabel('Petal width')\n",
    "pl.show()"
   ]
  },
  {
   "cell_type": "markdown",
   "metadata": {},
   "source": [
    "Видно, что классы разделяются, поэтому можно надеяться, что наш алгоритм \"найдет\" кластеры, соответствующие исходным классам. Результат работы реализованного алгоритма кластеризации предлагается сравнить с эталонной кластеризацией. Для этого предлагается изучить метрику ([adjusted rand score](http://scikit-learn.org/stable/modules/generated/sklearn.metrics.adjusted_rand_score.html)). В случае если значение этой метрики отличается от 1, предлагается поработать над улучшением реализации своего алгоритма."
   ]
  },
  {
   "cell_type": "code",
   "execution_count": 312,
   "metadata": {},
   "outputs": [
    {
     "name": "stdout",
     "output_type": "stream",
     "text": [
      " Sklearn AGGL score 1.0. Sklearn AGGL time 0.0023660659790039062\n"
     ]
    }
   ],
   "source": [
    "# Давайте проверим, как справляются sklearn реализации\n",
    "sklearn_aggl = AgglomerativeClustering(n_clusters=2)\n",
    "aggl_t0 = time.time()\n",
    "aggl_pred = sklearn_aggl.fit_predict(x_iris)\n",
    "aggl_diff = time.time() - aggl_t0\n",
    "aggl_score = smt.adjusted_rand_score(y_iris, aggl_pred)\n",
    "print (\" Sklearn AGGL score {}. Sklearn AGGL time {}\".format(aggl_score, aggl_diff))"
   ]
  },
  {
   "cell_type": "code",
   "execution_count": 313,
   "metadata": {
    "scrolled": true
   },
   "outputs": [
    {
     "name": "stdout",
     "output_type": "stream",
     "text": [
      "Our AGGL score 1.0. Our AGGL time 1.879676342010498\n"
     ]
    }
   ],
   "source": [
    "# Здесь предскажем кластера, посчитаем метрику кластеризации и время работы, сравним со склерном\n",
    "custom_aggl = Clustering(metric='euclidean', linkage='average')\n",
    "aggl_t0 = time.time()\n",
    "aggl_pred = custom_aggl.fit_predict(x_iris)\n",
    "aggl_diff = time.time() - aggl_t0\n",
    "aggl_score = smt.adjusted_rand_score(y_iris, aggl_pred)\n",
    "print (\"Our AGGL score {}. Our AGGL time {}\".format(aggl_score, aggl_diff))"
   ]
  },
  {
   "cell_type": "code",
   "execution_count": 314,
   "metadata": {
    "scrolled": true
   },
   "outputs": [
    {
     "data": {
      "text/plain": [
       "[[7, 39, 0.09999999999995453, 2],\n",
       " [0, 17, 0.09999999999999006, 2],\n",
       " [10, 48, 0.09999999999999006, 2],\n",
       " [9, 34, 0.10000000000002558, 2],\n",
       " [27, 28, 0.1414213562372703, 2],\n",
       " [4, 37, 0.14142135623729543, 2],\n",
       " [63, 91, 0.14142135623729543, 2],\n",
       " [80, 81, 0.14142135623729543, 2],\n",
       " [82, 92, 0.14142135623729543, 2],\n",
       " [95, 96, 0.14142135623729543, 2],\n",
       " [1, 12, 0.14142135623732055, 2],\n",
       " [2, 47, 0.14142135623732055, 2],\n",
       " [8, 38, 0.14142135623732055, 2],\n",
       " [19, 21, 0.14142135623732055, 2],\n",
       " [29, 30, 0.14142135623734567, 2],\n",
       " [57, 93, 0.14142135623734567, 2],\n",
       " [65, 75, 0.14142135623739593, 2],\n",
       " [40, 101, 0.15731321849708296, 3],\n",
       " [49, 100, 0.15731321849709323, 3],\n",
       " [45, 110, 0.17071067811867177, 3],\n",
       " [88, 109, 0.17320508075691152, 3],\n",
       " [94, 99, 0.17320508075693203, 2],\n",
       " [25, 103, 0.18660254037849297, 3],\n",
       " [3, 111, 0.1931851652578215, 3],\n",
       " [46, 113, 0.1931851652578215, 3],\n",
       " [104, 117, 0.19897133418246984, 5],\n",
       " [23, 26, 0.1999999999999801, 2],\n",
       " [53, 89, 0.20000000000001564, 2],\n",
       " [66, 84, 0.2000000000000334, 2],\n",
       " [74, 97, 0.20000000000005116, 2],\n",
       " [118, 125, 0.21096823167779835, 8],\n",
       " [69, 107, 0.21889010593166502, 3],\n",
       " [119, 122, 0.21955704962306657, 6],\n",
       " [78, 106, 0.2224744871391658, 3],\n",
       " [43, 126, 0.2440909644282228, 3],\n",
       " [54, 58, 0.24494897427832246, 2],\n",
       " [120, 121, 0.2469123618446852, 5],\n",
       " [42, 112, 0.25811388300841903, 3],\n",
       " [114, 123, 0.2586801925487475, 5],\n",
       " [67, 108, 0.26389584337646826, 3],\n",
       " [105, 130, 0.2641715223916842, 10],\n",
       " [68, 87, 0.26457513110644615, 2],\n",
       " [50, 52, 0.264575131106473, 2],\n",
       " [51, 56, 0.264575131106473, 2],\n",
       " [20, 31, 0.28284271247462855, 2],\n",
       " [102, 124, 0.29943679110812466, 5],\n",
       " [6, 11, 0.299999999999982, 2],\n",
       " [132, 138, 0.3022091660299884, 11],\n",
       " [13, 137, 0.30252896726964823, 4],\n",
       " [73, 133, 0.3036350441235846, 4],\n",
       " [86, 142, 0.30725259575511155, 3],\n",
       " [55, 90, 0.31622776601681774, 2],\n",
       " [116, 135, 0.3254171437560003, 4],\n",
       " [5, 18, 0.33166247903553914, 2],\n",
       " [127, 131, 0.3388260881672191, 5],\n",
       " [32, 33, 0.3464101615137615, 2],\n",
       " [36, 144, 0.3702459173643884, 3],\n",
       " [61, 136, 0.3728635139505047, 6],\n",
       " [35, 140, 0.3783161125285795, 11],\n",
       " [76, 150, 0.38369263084104704, 4],\n",
       " [71, 129, 0.38377618669481006, 3],\n",
       " [98, 115, 0.38729833462073987, 3],\n",
       " [146, 147, 0.39367409636601, 13],\n",
       " [16, 145, 0.3972314677147857, 6],\n",
       " [139, 157, 0.4115518237415287, 9],\n",
       " [85, 143, 0.4162116540864938, 3],\n",
       " [77, 159, 0.4178585024223104, 5],\n",
       " [72, 83, 0.42426406871193656, 2],\n",
       " [134, 158, 0.4248590901497906, 14],\n",
       " [128, 151, 0.43788526177577103, 4],\n",
       " [64, 79, 0.4472135954999611, 2],\n",
       " [153, 163, 0.4638998896590461, 8],\n",
       " [156, 168, 0.47936232346785335, 17],\n",
       " [44, 171, 0.49070124636354595, 9],\n",
       " [152, 166, 0.49512107266375216, 9],\n",
       " [15, 155, 0.508149489988299, 3],\n",
       " [149, 160, 0.5114951256539478, 7],\n",
       " [60, 161, 0.5133076507115942, 4],\n",
       " [70, 165, 0.5163498323748329, 4],\n",
       " [59, 154, 0.5182043440229329, 6],\n",
       " [148, 162, 0.5192839255939727, 17],\n",
       " [164, 169, 0.5254746296085074, 13],\n",
       " [172, 173, 0.5402031676584361, 26],\n",
       " [14, 175, 0.5485328600356828, 4],\n",
       " [170, 179, 0.5708340146942618, 8],\n",
       " [24, 180, 0.6074478161712626, 18],\n",
       " [176, 178, 0.6299664473559268, 11],\n",
       " [62, 141, 0.6632274505724585, 3],\n",
       " [181, 184, 0.6775532395826626, 21],\n",
       " [22, 185, 0.7171356744282517, 19],\n",
       " [174, 186, 0.7373076105001084, 20],\n",
       " [182, 189, 0.7540991222295558, 45],\n",
       " [167, 190, 0.7989549898869802, 22],\n",
       " [187, 188, 0.9140099449836109, 24],\n",
       " [183, 191, 1.0692084394601689, 49],\n",
       " [192, 193, 1.112492978533977, 46],\n",
       " [41, 194, 1.314187874016604, 50],\n",
       " [177, 195, 1.6671212984172783, 50]]"
      ]
     },
     "execution_count": 314,
     "metadata": {},
     "output_type": "execute_result"
    }
   ],
   "source": [
    "custom_aggl.Z"
   ]
  },
  {
   "cell_type": "code",
   "execution_count": 315,
   "metadata": {
    "scrolled": false
   },
   "outputs": [
    {
     "data": {
      "image/png": "[encoded data removed]",
      "text/plain": [
       "<Figure size 1080x648 with 1 Axes>"
      ]
     },
     "metadata": {
      "image/png": {
       "height": 517,
       "width": 874
      },
      "needs_background": "light"
     },
     "output_type": "display_data"
    }
   ],
   "source": [
    "custom_aggl.plot_dendrogram()"
   ]
  },
  {
   "cell_type": "markdown",
   "metadata": {
    "collapsed": true
   },
   "source": [
    "# Боевое применение (3  балла)\n"
   ]
  },
  {
   "cell_type": "markdown",
   "metadata": {
    "collapsed": true
   },
   "source": [
    "Алгоритмы кластеризации прекрасны тем, что они позволяют быстро понять, как устроены наши данные. Давайте применим Ваш алгоритм для нашего конкурса!"
   ]
  },
  {
   "cell_type": "markdown",
   "metadata": {},
   "source": [
    "Будем рассматривать каждую группу независимо от других групп. На каждой группе применим наш алгоритм и отрисуем денденограмму. По результатам кластерного анализа, Вам нужно ответить на следующие вопросы:\n",
    "\n",
    "1) Можно ли по дендонаграмме (или по другим результатам кластеризации) сказать, где в группе аномалии? Каким образом?\n",
    "\n",
    "2) Какое расстояние лучше использовать между заголовками страниц для кластеризации? \n",
    "\n",
    "2) Какое качество f1_score Вы смогли получить на обучающем множестве методами кластеризации? (валидацию можете не делать, если таргет не используете)\n",
    "\n",
    "4) Как можно результат кластеризации затем использовать для  финальной модели обучения с учителем?"
   ]
  },
  {
   "cell_type": "markdown",
   "metadata": {},
   "source": [
    "Подсказка: самое важное - выбрать расстояние между заголовками. Самый простой вариант:  процент различных слов в двух заголовках."
   ]
  },
  {
   "cell_type": "code",
   "execution_count": 237,
   "metadata": {},
   "outputs": [
    {
     "name": "stdout",
     "output_type": "stream",
     "text": [
      "28026\n"
     ]
    }
   ],
   "source": [
    "doc_to_title = {}\n",
    "with open('docs_titles.tsv') as f:\n",
    "    for num_line, line in enumerate(f):\n",
    "        if num_line == 0:\n",
    "            continue\n",
    "        data = line.strip().split('\\t', 1)\n",
    "        doc_id = int(data[0])\n",
    "        if len(data) == 1:\n",
    "            title = ''\n",
    "        else:\n",
    "            title = data[1]\n",
    "        doc_to_title[doc_id] = title\n",
    "print(len(doc_to_title))"
   ]
  },
  {
   "cell_type": "code",
   "execution_count": 238,
   "metadata": {},
   "outputs": [],
   "source": [
    "train_data = pd.read_csv('train_groups.csv')\n",
    "traingroups_titledata = {}\n",
    "for i in range(len(train_data)):\n",
    "    new_doc = train_data.iloc[i]\n",
    "    doc_group = new_doc['group_id']\n",
    "    doc_id = new_doc['doc_id']\n",
    "    target = new_doc['target']\n",
    "    title = doc_to_title[doc_id]\n",
    "    if doc_group not in traingroups_titledata:\n",
    "        traingroups_titledata[doc_group] = []\n",
    "    traingroups_titledata[doc_group].append((doc_id, title, target))"
   ]
  },
  {
   "cell_type": "markdown",
   "metadata": {},
   "source": [
    "Кластеризацию проводите в каждой группе отдельно, то есть изучайте, можно ли в группе  найти подкластер выбросов\n",
    "\n",
    "Документы можно представлять, например, словами из тайтла.\n",
    "\n",
    "Главное подобрать хорошую функцию расстояния между документами\n"
   ]
  },
  {
   "cell_type": "markdown",
   "metadata": {},
   "source": [
    "Замечание: в кластеризации можно использовать все данные, то есть трейн + тест, чтобы находить больше закономерностей "
   ]
  },
  {
   "cell_type": "code",
   "execution_count": 146,
   "metadata": {},
   "outputs": [
    {
     "data": {
      "application/vnd.jupyter.widget-view+json": {
       "model_id": "ce1a5377b3ba49e68a59197c940237bc",
       "version_major": 2,
       "version_minor": 0
      },
      "text/plain": [
       "HBox(children=(IntProgress(value=0, max=129), HTML(value='')))"
      ]
     },
     "metadata": {},
     "output_type": "display_data"
    },
    {
     "name": "stdout",
     "output_type": "stream",
     "text": [
      "\n"
     ]
    }
   ],
   "source": [
    "# Место для Вашего кластерного анализа\n",
    "import tqdm\n",
    "import tqdmfrom itertools import chain\n",
    "import pandas as pd\n",
    "from sklearn.metrics import f1_score\n",
    "from sklearn.feature_extraction.text import TfidfVectorizer\n",
    "\n",
    "comparing_data = []\n",
    "\n",
    "my_aggl = Clustering(n_clusters=2, metric='cosine', linkage ='average')\n",
    "\n",
    "groups_titles = [] # Group`s titles \n",
    "groups_targets = [] # Group`s targets \n",
    "general_set_targets = [] # General set targets\n",
    "general_set_predicts=[] # General set predicts\n",
    "for i in tqdm.notebook.tqdm(traingroups_titledata):\n",
    "    groups_titles.clear()\n",
    "    groups_targets.clear()\n",
    "    for pair_id, title, target in traingroups_titledata[i]:\n",
    "        groups_titles.append(title)\n",
    "        groups_targets.append(target)\n",
    "        general_set_targets.append(target)\n",
    "    x_train = TfidfVectorizer(ngram_range=(1,3)).fit_transform(groups_titles).toarray()\n",
    "\n",
    "    y_pred = my_aggl.fit_predict(x_train)\n",
    "    general_set_predicts.append(y_pred)\n",
    "    comparing_data.append([j, f1_score(groups_targets, y_pred)])\n",
    "\n",
    "comparing_df = pd.DataFrame(data = comparing_data, columns=['Group_id', 'F_Score'])\n",
    "general_set_predicts = list(chain(*general_set_predicts))\n",
    "\n"
   ]
  },
  {
   "cell_type": "code",
   "execution_count": 153,
   "metadata": {
    "scrolled": true
   },
   "outputs": [
    {
     "data": {
      "text/html": [
       "<div>\n",
       "<style scoped>\n",
       "    .dataframe tbody tr th:only-of-type {\n",
       "        vertical-align: middle;\n",
       "    }\n",
       "\n",
       "    .dataframe tbody tr th {\n",
       "        vertical-align: top;\n",
       "    }\n",
       "\n",
       "    .dataframe thead th {\n",
       "        text-align: right;\n",
       "    }\n",
       "</style>\n",
       "<table border=\"1\" class=\"dataframe\">\n",
       "  <thead>\n",
       "    <tr style=\"text-align: right;\">\n",
       "      <th></th>\n",
       "      <th>Group_id</th>\n",
       "      <th>F_Score</th>\n",
       "    </tr>\n",
       "  </thead>\n",
       "  <tbody>\n",
       "    <tr>\n",
       "      <th>21</th>\n",
       "      <td>22</td>\n",
       "      <td>0.931677</td>\n",
       "    </tr>\n",
       "    <tr>\n",
       "      <th>25</th>\n",
       "      <td>26</td>\n",
       "      <td>0.960526</td>\n",
       "    </tr>\n",
       "    <tr>\n",
       "      <th>32</th>\n",
       "      <td>33</td>\n",
       "      <td>0.966667</td>\n",
       "    </tr>\n",
       "    <tr>\n",
       "      <th>48</th>\n",
       "      <td>49</td>\n",
       "      <td>0.973822</td>\n",
       "    </tr>\n",
       "    <tr>\n",
       "      <th>49</th>\n",
       "      <td>50</td>\n",
       "      <td>0.970414</td>\n",
       "    </tr>\n",
       "    <tr>\n",
       "      <th>59</th>\n",
       "      <td>60</td>\n",
       "      <td>0.933333</td>\n",
       "    </tr>\n",
       "    <tr>\n",
       "      <th>76</th>\n",
       "      <td>77</td>\n",
       "      <td>0.969072</td>\n",
       "    </tr>\n",
       "    <tr>\n",
       "      <th>86</th>\n",
       "      <td>87</td>\n",
       "      <td>0.936508</td>\n",
       "    </tr>\n",
       "    <tr>\n",
       "      <th>99</th>\n",
       "      <td>100</td>\n",
       "      <td>0.965986</td>\n",
       "    </tr>\n",
       "    <tr>\n",
       "      <th>120</th>\n",
       "      <td>121</td>\n",
       "      <td>0.962963</td>\n",
       "    </tr>\n",
       "    <tr>\n",
       "      <th>123</th>\n",
       "      <td>124</td>\n",
       "      <td>0.912821</td>\n",
       "    </tr>\n",
       "    <tr>\n",
       "      <th>125</th>\n",
       "      <td>126</td>\n",
       "      <td>0.943590</td>\n",
       "    </tr>\n",
       "    <tr>\n",
       "      <th>127</th>\n",
       "      <td>128</td>\n",
       "      <td>0.913043</td>\n",
       "    </tr>\n",
       "  </tbody>\n",
       "</table>\n",
       "</div>"
      ],
      "text/plain": [
       "     Group_id   F_Score\n",
       "21         22  0.931677\n",
       "25         26  0.960526\n",
       "32         33  0.966667\n",
       "48         49  0.973822\n",
       "49         50  0.970414\n",
       "59         60  0.933333\n",
       "76         77  0.969072\n",
       "86         87  0.936508\n",
       "99        100  0.965986\n",
       "120       121  0.962963\n",
       "123       124  0.912821\n",
       "125       126  0.943590\n",
       "127       128  0.913043"
      ]
     },
     "execution_count": 153,
     "metadata": {},
     "output_type": "execute_result"
    }
   ],
   "source": [
    "comparing_df[comparing_df.F_Score > 0.9]"
   ]
  },
  {
   "cell_type": "code",
   "execution_count": 148,
   "metadata": {},
   "outputs": [
    {
     "name": "stdout",
     "output_type": "stream",
     "text": [
      "0.4708257233490339\n"
     ]
    }
   ],
   "source": [
    "print(f1_score(general_set_targets, general_set_predicts))"
   ]
  },
  {
   "cell_type": "markdown",
   "metadata": {
    "collapsed": true
   },
   "source": [
    "Если получилось найти выбросы с помощью кластеризации, то не забывайте использовать его в финальном решении. Помните - использование различных подходов к решению задачи всегда улучшает финального качество."
   ]
  },
  {
   "cell_type": "markdown",
   "metadata": {},
   "source": [
    "Здесь Вы можете оставить отзыв о этой домашней работе или о всем курсе.   "
   ]
  },
  {
   "cell_type": "markdown",
   "metadata": {},
   "source": [
    "*** ВАШ ОТЗЫВ ЗДЕСЬ***"
   ]
  },
  {
   "cell_type": "markdown",
   "metadata": {
    "collapsed": true
   },
   "source": []
  },
  {
   "cell_type": "markdown",
   "metadata": {
    "collapsed": true
   },
   "source": []
  }
 ],
 "metadata": {
  "anaconda-cloud": {},
  "kernelspec": {
   "display_name": "Python 3",
   "language": "python",
   "name": "python3"
  },
  "language_info": {
   "codemirror_mode": {
    "name": "ipython",
    "version": 3
   },
   "file_extension": ".py",
   "mimetype": "text/x-python",
   "name": "python",
   "nbconvert_exporter": "python",
   "pygments_lexer": "ipython3",
   "version": "3.7.5"
  }
 },
 "nbformat": 4,
 "nbformat_minor": 1
}
